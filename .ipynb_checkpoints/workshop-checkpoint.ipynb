{
 "cells": [
  {
   "cell_type": "code",
   "execution_count": 1,
   "metadata": {},
   "outputs": [],
   "source": [
    "import pandas as pd\n",
    "import numpy as np\n",
    "import sympy as sp\n",
    "import string\n",
    "import math\n",
    "from collections import OrderedDict"
   ]
  },
  {
   "cell_type": "code",
   "execution_count": 2,
   "metadata": {},
   "outputs": [],
   "source": [
    "df = pd.read_csv(\"./SearchForPrimes.csv\", header=None)"
   ]
  },
  {
   "cell_type": "code",
   "execution_count": 3,
   "metadata": {},
   "outputs": [
    {
     "data": {
      "text/html": [
       "<div>\n",
       "<style scoped>\n",
       "    .dataframe tbody tr th:only-of-type {\n",
       "        vertical-align: middle;\n",
       "    }\n",
       "\n",
       "    .dataframe tbody tr th {\n",
       "        vertical-align: top;\n",
       "    }\n",
       "\n",
       "    .dataframe thead th {\n",
       "        text-align: right;\n",
       "    }\n",
       "</style>\n",
       "<table border=\"1\" class=\"dataframe\">\n",
       "  <thead>\n",
       "    <tr style=\"text-align: right;\">\n",
       "      <th></th>\n",
       "      <th>0</th>\n",
       "      <th>1</th>\n",
       "      <th>2</th>\n",
       "      <th>3</th>\n",
       "      <th>4</th>\n",
       "      <th>5</th>\n",
       "      <th>6</th>\n",
       "      <th>7</th>\n",
       "      <th>8</th>\n",
       "      <th>9</th>\n",
       "      <th>...</th>\n",
       "      <th>20</th>\n",
       "      <th>21</th>\n",
       "      <th>22</th>\n",
       "      <th>23</th>\n",
       "      <th>24</th>\n",
       "      <th>25</th>\n",
       "      <th>26</th>\n",
       "      <th>27</th>\n",
       "      <th>28</th>\n",
       "      <th>29</th>\n",
       "    </tr>\n",
       "  </thead>\n",
       "  <tbody>\n",
       "    <tr>\n",
       "      <th>0</th>\n",
       "      <td>Z139</td>\n",
       "      <td>R463</td>\n",
       "      <td>S14</td>\n",
       "      <td>V412</td>\n",
       "      <td>W4</td>\n",
       "      <td>U367</td>\n",
       "      <td>S84</td>\n",
       "      <td>Z139</td>\n",
       "      <td>Z320</td>\n",
       "      <td>Q485</td>\n",
       "      <td>...</td>\n",
       "      <td>X485</td>\n",
       "      <td>U165</td>\n",
       "      <td>U167</td>\n",
       "      <td>U287</td>\n",
       "      <td>R143</td>\n",
       "      <td>Q402</td>\n",
       "      <td>W301</td>\n",
       "      <td>S82</td>\n",
       "      <td>S454</td>\n",
       "      <td>S158</td>\n",
       "    </tr>\n",
       "    <tr>\n",
       "      <th>1</th>\n",
       "      <td>R399</td>\n",
       "      <td>Y439</td>\n",
       "      <td>P174</td>\n",
       "      <td>U489</td>\n",
       "      <td>Z24</td>\n",
       "      <td>Y498</td>\n",
       "      <td>Q81</td>\n",
       "      <td>Z9</td>\n",
       "      <td>U465</td>\n",
       "      <td>T223</td>\n",
       "      <td>...</td>\n",
       "      <td>S499</td>\n",
       "      <td>Y342</td>\n",
       "      <td>U423</td>\n",
       "      <td>U447</td>\n",
       "      <td>S149</td>\n",
       "      <td>Q496</td>\n",
       "      <td>P28</td>\n",
       "      <td>V39</td>\n",
       "      <td>T38</td>\n",
       "      <td>X65</td>\n",
       "    </tr>\n",
       "    <tr>\n",
       "      <th>2</th>\n",
       "      <td>W67</td>\n",
       "      <td>P434</td>\n",
       "      <td>U491</td>\n",
       "      <td>R351</td>\n",
       "      <td>R102</td>\n",
       "      <td>T239</td>\n",
       "      <td>S214</td>\n",
       "      <td>R12</td>\n",
       "      <td>X188</td>\n",
       "      <td>U497</td>\n",
       "      <td>...</td>\n",
       "      <td>V170</td>\n",
       "      <td>W334</td>\n",
       "      <td>T352</td>\n",
       "      <td>V74</td>\n",
       "      <td>W339</td>\n",
       "      <td>T7</td>\n",
       "      <td>Y110</td>\n",
       "      <td>R368</td>\n",
       "      <td>V487</td>\n",
       "      <td>S183</td>\n",
       "    </tr>\n",
       "    <tr>\n",
       "      <th>3</th>\n",
       "      <td>U335</td>\n",
       "      <td>Q259</td>\n",
       "      <td>S295</td>\n",
       "      <td>X344</td>\n",
       "      <td>X498</td>\n",
       "      <td>Q203</td>\n",
       "      <td>S199</td>\n",
       "      <td>T370</td>\n",
       "      <td>Q303</td>\n",
       "      <td>V36</td>\n",
       "      <td>...</td>\n",
       "      <td>R208</td>\n",
       "      <td>X319</td>\n",
       "      <td>Y26</td>\n",
       "      <td>T276</td>\n",
       "      <td>Z313</td>\n",
       "      <td>T334</td>\n",
       "      <td>R353</td>\n",
       "      <td>W323</td>\n",
       "      <td>U122</td>\n",
       "      <td>R409</td>\n",
       "    </tr>\n",
       "    <tr>\n",
       "      <th>4</th>\n",
       "      <td>Q84</td>\n",
       "      <td>W204</td>\n",
       "      <td>V202</td>\n",
       "      <td>W280</td>\n",
       "      <td>Z89</td>\n",
       "      <td>Y480</td>\n",
       "      <td>R480</td>\n",
       "      <td>P132</td>\n",
       "      <td>W406</td>\n",
       "      <td>P110</td>\n",
       "      <td>...</td>\n",
       "      <td>U417</td>\n",
       "      <td>S332</td>\n",
       "      <td>Z7</td>\n",
       "      <td>P478</td>\n",
       "      <td>V44</td>\n",
       "      <td>Z308</td>\n",
       "      <td>Y151</td>\n",
       "      <td>Z103</td>\n",
       "      <td>Q205</td>\n",
       "      <td>W6</td>\n",
       "    </tr>\n",
       "  </tbody>\n",
       "</table>\n",
       "<p>5 rows × 30 columns</p>\n",
       "</div>"
      ],
      "text/plain": [
       "     0     1     2     3     4     5     6     7     8     9   ...    20  \\\n",
       "0  Z139  R463   S14  V412    W4  U367   S84  Z139  Z320  Q485  ...  X485   \n",
       "1  R399  Y439  P174  U489   Z24  Y498   Q81    Z9  U465  T223  ...  S499   \n",
       "2   W67  P434  U491  R351  R102  T239  S214   R12  X188  U497  ...  V170   \n",
       "3  U335  Q259  S295  X344  X498  Q203  S199  T370  Q303   V36  ...  R208   \n",
       "4   Q84  W204  V202  W280   Z89  Y480  R480  P132  W406  P110  ...  U417   \n",
       "\n",
       "     21    22    23    24    25    26    27    28    29  \n",
       "0  U165  U167  U287  R143  Q402  W301   S82  S454  S158  \n",
       "1  Y342  U423  U447  S149  Q496   P28   V39   T38   X65  \n",
       "2  W334  T352   V74  W339    T7  Y110  R368  V487  S183  \n",
       "3  X319   Y26  T276  Z313  T334  R353  W323  U122  R409  \n",
       "4  S332    Z7  P478   V44  Z308  Y151  Z103  Q205    W6  \n",
       "\n",
       "[5 rows x 30 columns]"
      ]
     },
     "execution_count": 3,
     "metadata": {},
     "output_type": "execute_result"
    }
   ],
   "source": [
    "df.head()"
   ]
  },
  {
   "cell_type": "code",
   "execution_count": 16,
   "metadata": {},
   "outputs": [],
   "source": [
    "class char_stats():\n",
    "    def __init__(self):\n",
    "        self.count = 0\n",
    "        self.primes = []\n",
    "    \n",
    "    def get_count(self):\n",
    "        return self.count\n",
    "    \n",
    "    def set_count(self, c):\n",
    "        self.count=c\n",
    "        \n",
    "    def get_prime_count(self):\n",
    "        return len(self.primes)\n",
    "\n",
    "    def add_prime(self, prime):\n",
    "        self.primes.append(prime)\n",
    "        \n",
    "    def get_avg_prime(self):\n",
    "        return np.mean(self.primes)\n",
    "    \n",
    "    def get_prime_percentage(self):\n",
    "        return self.get_prime_count() / self.get_count() if self.get_count() > 0 else 0"
   ]
  },
  {
   "cell_type": "code",
   "execution_count": 42,
   "metadata": {},
   "outputs": [],
   "source": [
    "all_data = df.to_numpy().flatten()"
   ]
  },
  {
   "cell_type": "code",
   "execution_count": 45,
   "metadata": {},
   "outputs": [
    {
     "data": {
      "text/plain": [
       "array(['Z139', 'R463', 'S14', ..., 'Z1887', 'Y981', 'X189'], dtype=object)"
      ]
     },
     "execution_count": 45,
     "metadata": {},
     "output_type": "execute_result"
    }
   ],
   "source": [
    "all_data"
   ]
  },
  {
   "cell_type": "code",
   "execution_count": 63,
   "metadata": {},
   "outputs": [
    {
     "data": {
      "text/plain": [
       "nan"
      ]
     },
     "execution_count": 63,
     "metadata": {},
     "output_type": "execute_result"
    }
   ],
   "source": [
    "all_data[1842]"
   ]
  },
  {
   "cell_type": "code",
   "execution_count": 67,
   "metadata": {},
   "outputs": [],
   "source": [
    "def run_operation(all_data):\n",
    "    di = {}\n",
    "    for let in string.ascii_uppercase:\n",
    "        di[let] = char_stats()\n",
    "        \n",
    "    error_count = 0\n",
    "    for idx, val in enumerate(all_data):\n",
    "        if not isinstance(val, str) and math.isnan(val):\n",
    "            #print(f\"blank cell found at index {idx}\")\n",
    "            continue\n",
    "        try:\n",
    "            letter = val[0]\n",
    "            di[letter].set_count(di[letter].get_count()+1)\n",
    "            num = int(val[1:])\n",
    "            if sp.isprime(num):\n",
    "                di[letter].add_prime(num)\n",
    "        except ValueError:\n",
    "            print(f\"value error found at index {idx}: {val}\")\n",
    "            error_count+=1\n",
    "        except KeyError:\n",
    "            print(f\"key error found at index {idx}: {val}\")\n",
    "            error_count+=1\n",
    "    return di, error_count"
   ]
  },
  {
   "cell_type": "code",
   "execution_count": 68,
   "metadata": {},
   "outputs": [
    {
     "name": "stdout",
     "output_type": "stream",
     "text": [
      "value error found at index 99788: AA\n",
      "value error found at index 99789: AA\n",
      "value error found at index 99851: AA\n",
      "value error found at index 99941: AA\n",
      "key error found at index 220722: 12345\n",
      "key error found at index 220753: 54362\n",
      "key error found at index 220784: 3542\n",
      "key error found at index 220815: 3547\n",
      "key error found at index 231515: \"Error Cell\"\n",
      "key error found at index 231638: \"Error Cell\"\n"
     ]
    }
   ],
   "source": [
    "di, error_count = run_operation(all_data)"
   ]
  },
  {
   "cell_type": "code",
   "execution_count": 99,
   "metadata": {},
   "outputs": [],
   "source": [
    "def print_counts(di):\n",
    "    for key in di.keys():\n",
    "        print(f\"\"\"key: {key}, count: {di[key].get_count()}, prime_count: {di[key].get_prime_count()}, avg prime: {di[key].get_avg_prime()}, prime percentage: {di[key].get_prime_percentage()}\"\"\")"
   ]
  },
  {
   "cell_type": "code",
   "execution_count": 113,
   "metadata": {},
   "outputs": [],
   "source": [
    "def rank_counts(di):\n",
    "    ordered = sorted(di.items(), key=lambda x: x[1].get_count(), reverse=True)\n",
    "    keys = [item[0] for item in ordered]\n",
    "    vals = [item[1].get_count() for item in ordered]\n",
    "    return OrderedDict(zip(keys,vals))"
   ]
  },
  {
   "cell_type": "code",
   "execution_count": 115,
   "metadata": {},
   "outputs": [],
   "source": [
    "def rank_prime_counts(di):\n",
    "    ordered = sorted(di.items(), key=lambda x: x[1].get_prime_count(), reverse=True)\n",
    "    keys = [item[0] for item in ordered]\n",
    "    vals = [item[1].get_prime_count() for item in ordered]\n",
    "    return OrderedDict(zip(keys,vals))"
   ]
  },
  {
   "cell_type": "code",
   "execution_count": 95,
   "metadata": {},
   "outputs": [],
   "source": [
    "def rank_avg_prime(di):\n",
    "    ordered = sorted(di.items(), key=lambda x: x[1].get_avg_prime() if not math.isnan(x[1].get_avg_prime()) else 0, reverse=True)\n",
    "    keys = [item[0] for item in ordered]\n",
    "    vals = [item[1].get_avg_prime() for item in ordered]\n",
    "    return OrderedDict(zip(keys,vals))"
   ]
  },
  {
   "cell_type": "code",
   "execution_count": 98,
   "metadata": {},
   "outputs": [],
   "source": [
    "def rank_prime_percentage(di):\n",
    "    ordered = sorted(di.items(), key=lambda x: x[1].get_prime_percentage(), reverse=True)\n",
    "    keys = [item[0] for item in ordered]\n",
    "    vals = [item[1].get_prime_percentage() for item in ordered]\n",
    "    return OrderedDict(zip(keys,vals))"
   ]
  },
  {
   "cell_type": "code",
   "execution_count": 100,
   "metadata": {},
   "outputs": [
    {
     "name": "stdout",
     "output_type": "stream",
     "text": [
      "key: A, count: 4, prime_count: 0, avg prime: nan, prime percentage: 0.0\n",
      "key: B, count: 0, prime_count: 0, avg prime: nan, prime percentage: 0\n",
      "key: C, count: 0, prime_count: 0, avg prime: nan, prime percentage: 0\n",
      "key: D, count: 0, prime_count: 0, avg prime: nan, prime percentage: 0\n",
      "key: E, count: 0, prime_count: 0, avg prime: nan, prime percentage: 0\n",
      "key: F, count: 0, prime_count: 0, avg prime: nan, prime percentage: 0\n",
      "key: G, count: 0, prime_count: 0, avg prime: nan, prime percentage: 0\n",
      "key: H, count: 0, prime_count: 0, avg prime: nan, prime percentage: 0\n",
      "key: I, count: 0, prime_count: 0, avg prime: nan, prime percentage: 0\n",
      "key: J, count: 0, prime_count: 0, avg prime: nan, prime percentage: 0\n",
      "key: K, count: 0, prime_count: 0, avg prime: nan, prime percentage: 0\n",
      "key: L, count: 0, prime_count: 0, avg prime: nan, prime percentage: 0\n",
      "key: M, count: 0, prime_count: 0, avg prime: nan, prime percentage: 0\n",
      "key: N, count: 0, prime_count: 0, avg prime: nan, prime percentage: 0\n",
      "key: O, count: 0, prime_count: 0, avg prime: nan, prime percentage: 0\n",
      "key: P, count: 68029, prime_count: 13028, avg prime: 225.87404052809333, prime percentage: 0.19150656337738317\n",
      "key: Q, count: 68001, prime_count: 12548, avg prime: 224.8744819891616, prime percentage: 0.1845266981367921\n",
      "key: R, count: 68337, prime_count: 13206, avg prime: 225.7061184310162, prime percentage: 0.19324816717151763\n",
      "key: S, count: 67777, prime_count: 12752, avg prime: 226.21118255959848, prime percentage: 0.18814642135237616\n",
      "key: T, count: 67761, prime_count: 12803, avg prime: 227.6628915098024, prime percentage: 0.18894349256947213\n",
      "key: U, count: 68568, prime_count: 12950, avg prime: 224.78718146718145, prime percentage: 0.18886360984715903\n",
      "key: V, count: 68295, prime_count: 12987, avg prime: 228.5959035959036, prime percentage: 0.19016033384581593\n",
      "key: W, count: 81711, prime_count: 15409, avg prime: 262.36303459017455, prime percentage: 0.18857926105420322\n",
      "key: X, count: 113701, prime_count: 19767, avg prime: 522.2939748064957, prime percentage: 0.17385071371403946\n",
      "key: Y, count: 113756, prime_count: 19940, avg prime: 523.5573219658977, prime percentage: 0.17528745736488624\n",
      "key: Z, count: 113849, prime_count: 19667, avg prime: 522.0573549600854, prime percentage: 0.17274635701675026\n"
     ]
    }
   ],
   "source": [
    "print_counts(di)"
   ]
  },
  {
   "cell_type": "code",
   "execution_count": 108,
   "metadata": {},
   "outputs": [
    {
     "data": {
      "text/plain": [
       "('Y', 523.5573219658977)"
      ]
     },
     "execution_count": 108,
     "metadata": {},
     "output_type": "execute_result"
    }
   ],
   "source": [
    "od = rank_avg_prime(di)\n",
    "list(od.items())[0]"
   ]
  },
  {
   "cell_type": "code",
   "execution_count": 102,
   "metadata": {},
   "outputs": [
    {
     "data": {
      "text/plain": [
       "OrderedDict([('R', 0.19324816717151763),\n",
       "             ('P', 0.19150656337738317),\n",
       "             ('V', 0.19016033384581593),\n",
       "             ('T', 0.18894349256947213),\n",
       "             ('U', 0.18886360984715903),\n",
       "             ('W', 0.18857926105420322),\n",
       "             ('S', 0.18814642135237616),\n",
       "             ('Q', 0.1845266981367921),\n",
       "             ('Y', 0.17528745736488624),\n",
       "             ('X', 0.17385071371403946),\n",
       "             ('Z', 0.17274635701675026),\n",
       "             ('A', 0.0),\n",
       "             ('B', 0),\n",
       "             ('C', 0),\n",
       "             ('D', 0),\n",
       "             ('E', 0),\n",
       "             ('F', 0),\n",
       "             ('G', 0),\n",
       "             ('H', 0),\n",
       "             ('I', 0),\n",
       "             ('J', 0),\n",
       "             ('K', 0),\n",
       "             ('L', 0),\n",
       "             ('M', 0),\n",
       "             ('N', 0),\n",
       "             ('O', 0)])"
      ]
     },
     "execution_count": 102,
     "metadata": {},
     "output_type": "execute_result"
    }
   ],
   "source": [
    "rank_prime_percentage(di)"
   ]
  },
  {
   "cell_type": "code",
   "execution_count": null,
   "metadata": {},
   "outputs": [],
   "source": []
  }
 ],
 "metadata": {
  "kernelspec": {
   "display_name": "Python 3",
   "language": "python",
   "name": "python3"
  },
  "language_info": {
   "codemirror_mode": {
    "name": "ipython",
    "version": 3
   },
   "file_extension": ".py",
   "mimetype": "text/x-python",
   "name": "python",
   "nbconvert_exporter": "python",
   "pygments_lexer": "ipython3",
   "version": "3.7.4"
  }
 },
 "nbformat": 4,
 "nbformat_minor": 2
}
